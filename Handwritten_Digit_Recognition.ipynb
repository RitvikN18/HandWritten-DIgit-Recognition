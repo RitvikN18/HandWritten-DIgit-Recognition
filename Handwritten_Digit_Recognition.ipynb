{
  "nbformat": 4,
  "nbformat_minor": 0,
  "metadata": {
    "colab": {
      "name": "Handwritten Digit Recognition.ipynb",
      "provenance": []
    },
    "kernelspec": {
      "name": "python3",
      "display_name": "Python 3"
    }
  },
  "cells": [
    {
      "cell_type": "code",
      "metadata": {
        "id": "Jh4vfnE6MPv-",
        "colab_type": "code",
        "colab": {}
      },
      "source": [
        "import tensorflow as tf\n",
        "import tensorflow.keras as keras\n",
        "import numpy as np\n",
        "import pandas as pd\n",
        "import matplotlib.pyplot as plt"
      ],
      "execution_count": 0,
      "outputs": []
    },
    {
      "cell_type": "markdown",
      "metadata": {
        "id": "E17u0B2zMw_w",
        "colab_type": "text"
      },
      "source": [
        "Loading the dataset :"
      ]
    },
    {
      "cell_type": "code",
      "metadata": {
        "id": "HnbUhIBBM0DG",
        "colab_type": "code",
        "colab": {}
      },
      "source": [
        "digit_dataset = keras.datasets.mnist"
      ],
      "execution_count": 0,
      "outputs": []
    },
    {
      "cell_type": "code",
      "metadata": {
        "id": "QDJFJGTyNPfn",
        "colab_type": "code",
        "colab": {}
      },
      "source": [
        "(x_train, y_train), (x_test, y_test) = digit_dataset.load_data()"
      ],
      "execution_count": 0,
      "outputs": []
    },
    {
      "cell_type": "code",
      "metadata": {
        "id": "59-GIMmKNjv9",
        "colab_type": "code",
        "outputId": "fdf88466-9ec3-42e5-ab7c-a37928ec3775",
        "colab": {
          "base_uri": "https://localhost:8080/",
          "height": 34
        }
      },
      "source": [
        "x_train.shape"
      ],
      "execution_count": 16,
      "outputs": [
        {
          "output_type": "execute_result",
          "data": {
            "text/plain": [
              "(60000, 28, 28)"
            ]
          },
          "metadata": {
            "tags": []
          },
          "execution_count": 16
        }
      ]
    },
    {
      "cell_type": "code",
      "metadata": {
        "id": "7Plv7MuENnB8",
        "colab_type": "code",
        "outputId": "641f9aa1-63f0-43fa-82c9-51535cec1704",
        "colab": {
          "base_uri": "https://localhost:8080/",
          "height": 34
        }
      },
      "source": [
        "x_test.shape"
      ],
      "execution_count": 17,
      "outputs": [
        {
          "output_type": "execute_result",
          "data": {
            "text/plain": [
              "(10000, 28, 28)"
            ]
          },
          "metadata": {
            "tags": []
          },
          "execution_count": 17
        }
      ]
    },
    {
      "cell_type": "code",
      "metadata": {
        "id": "-y4KeyhAaf_g",
        "colab_type": "code",
        "colab": {}
      },
      "source": [
        "x_train_new = x_train.reshape(60000, 28, 28, 1)"
      ],
      "execution_count": 0,
      "outputs": []
    },
    {
      "cell_type": "code",
      "metadata": {
        "id": "L3E2PxcDavY8",
        "colab_type": "code",
        "colab": {}
      },
      "source": [
        "x_test_new = x_test.reshape(10000, 28, 28, 1)"
      ],
      "execution_count": 0,
      "outputs": []
    },
    {
      "cell_type": "markdown",
      "metadata": {
        "id": "mqsfwqO8NreV",
        "colab_type": "text"
      },
      "source": [
        "Normalizing the dataset"
      ]
    },
    {
      "cell_type": "code",
      "metadata": {
        "id": "j_ChMrHFNt-u",
        "colab_type": "code",
        "colab": {}
      },
      "source": [
        "x_train_new = x_train_new/255.0\n",
        "x_test_new = x_test_new/255.0"
      ],
      "execution_count": 0,
      "outputs": []
    },
    {
      "cell_type": "markdown",
      "metadata": {
        "id": "IMR9uk8VOQLB",
        "colab_type": "text"
      },
      "source": [
        "Visualising the data"
      ]
    },
    {
      "cell_type": "code",
      "metadata": {
        "id": "l770le1jN5BP",
        "colab_type": "code",
        "outputId": "0e5b1bd6-bc99-457e-a757-ebe3f5357272",
        "colab": {
          "base_uri": "https://localhost:8080/",
          "height": 589
        }
      },
      "source": [
        "class_names = ['0', '1', '2', '3', '4',\n",
        "               '5', '6', '7', '8', '9']\n",
        "plt.figure(figsize=(10,10))\n",
        "for i in range(25):\n",
        "    plt.subplot(5,5,i+1)\n",
        "    plt.xticks([])\n",
        "    plt.yticks([])\n",
        "    plt.grid(False)\n",
        "    plt.imshow(x_train[i], cmap=\"gray\")\n",
        "    plt.xlabel(class_names[y_train[i]])\n",
        "plt.show()"
      ],
      "execution_count": 21,
      "outputs": [
        {
          "output_type": "display_data",
          "data": {
            "image/png": "[encoded data removed]",
            "text/plain": [
              "<Figure size 720x720 with 25 Axes>"
            ]
          },
          "metadata": {
            "tags": []
          }
        }
      ]
    },
    {
      "cell_type": "markdown",
      "metadata": {
        "id": "KgtgoQSAQfDt",
        "colab_type": "text"
      },
      "source": [
        "Defining the model"
      ]
    },
    {
      "cell_type": "code",
      "metadata": {
        "id": "SyId0qFMOT7b",
        "colab_type": "code",
        "colab": {}
      },
      "source": [
        "def create_model():\n",
        "  model = keras.Sequential(\n",
        "    [\n",
        "     keras.layers.Conv2D(64, (3,3), activation='relu', input_shape=(28, 28, 1)),\n",
        "     keras.layers.MaxPooling2D(2, 2), \n",
        "     keras.layers.Conv2D(64, (3,3), activation='relu'), \n",
        "     keras.layers.MaxPooling2D(2, 2),\n",
        "     keras.layers.Flatten(),\n",
        "     keras.layers.Dense(128, kernel_regularizer = keras.regularizers.l2(0.0001), activation = 'relu'),\n",
        "     keras.layers.Dense(128, kernel_regularizer = keras.regularizers.l2(0.0001), activation = 'relu'),\n",
        "     keras.layers.Dense(10, activation='softmax')\n",
        "    ]\n",
        "    )\n",
        "  model.compile(optimizer = 'adam', \n",
        "              loss = keras.losses.SparseCategoricalCrossentropy(from_logits=True),\n",
        "              metrics = ['accuracy'])\n",
        "  return model\n",
        "  "
      ],
      "execution_count": 0,
      "outputs": []
    },
    {
      "cell_type": "code",
      "metadata": {
        "id": "NMvTK73wPucW",
        "colab_type": "code",
        "colab": {}
      },
      "source": [
        "digit_recognition_model = create_model()"
      ],
      "execution_count": 0,
      "outputs": []
    },
    {
      "cell_type": "markdown",
      "metadata": {
        "id": "F88p6fnGQlq2",
        "colab_type": "text"
      },
      "source": [
        "Training the model"
      ]
    },
    {
      "cell_type": "code",
      "metadata": {
        "id": "kFtuseXVQiY1",
        "colab_type": "code",
        "outputId": "87568b62-1c51-4e85-a4b5-f9162213c3aa",
        "colab": {
          "base_uri": "https://localhost:8080/",
          "height": 374
        }
      },
      "source": [
        "digit_recognition_model.fit(x_train_new, y_train, epochs = 10)"
      ],
      "execution_count": 24,
      "outputs": [
        {
          "output_type": "stream",
          "text": [
            "Epoch 1/10\n",
            "1875/1875 [==============================] - 80s 42ms/step - loss: 1.5604 - accuracy: 0.9261\n",
            "Epoch 2/10\n",
            "1875/1875 [==============================] - 80s 43ms/step - loss: 1.5076 - accuracy: 0.9742\n",
            "Epoch 3/10\n",
            "1875/1875 [==============================] - 80s 42ms/step - loss: 1.4997 - accuracy: 0.9805\n",
            "Epoch 4/10\n",
            "1875/1875 [==============================] - 79s 42ms/step - loss: 1.4963 - accuracy: 0.9826\n",
            "Epoch 5/10\n",
            "1875/1875 [==============================] - 80s 43ms/step - loss: 1.4935 - accuracy: 0.9841\n",
            "Epoch 6/10\n",
            "1875/1875 [==============================] - 80s 43ms/step - loss: 1.4893 - accuracy: 0.9865\n",
            "Epoch 7/10\n",
            "1875/1875 [==============================] - 79s 42ms/step - loss: 1.4882 - accuracy: 0.9869\n",
            "Epoch 8/10\n",
            "1875/1875 [==============================] - 79s 42ms/step - loss: 1.4864 - accuracy: 0.9876\n",
            "Epoch 9/10\n",
            "1875/1875 [==============================] - 80s 42ms/step - loss: 1.4845 - accuracy: 0.9885\n",
            "Epoch 10/10\n",
            "1875/1875 [==============================] - 79s 42ms/step - loss: 1.4837 - accuracy: 0.9888\n"
          ],
          "name": "stdout"
        },
        {
          "output_type": "execute_result",
          "data": {
            "text/plain": [
              "<tensorflow.python.keras.callbacks.History at 0x7f4925ea11d0>"
            ]
          },
          "metadata": {
            "tags": []
          },
          "execution_count": 24
        }
      ]
    },
    {
      "cell_type": "markdown",
      "metadata": {
        "id": "b9zPOpEmRf6S",
        "colab_type": "text"
      },
      "source": [
        "Evaluating the model"
      ]
    },
    {
      "cell_type": "code",
      "metadata": {
        "id": "B829PQydRhhc",
        "colab_type": "code",
        "outputId": "1687498a-38f4-456f-a450-c16e04f96a66",
        "colab": {
          "base_uri": "https://localhost:8080/",
          "height": 68
        }
      },
      "source": [
        "test_loss, test_accuracy = digit_recognition_model.evaluate(x_test_new, y_test, verbose = 2)\n",
        "print(\"Loss :\",test_loss)\n",
        "print(\"Accuracy :\", test_accuracy)"
      ],
      "execution_count": 26,
      "outputs": [
        {
          "output_type": "stream",
          "text": [
            "313/313 - 3s - loss: 1.4836 - accuracy: 0.9885\n",
            "Loss : 1.483565092086792\n",
            "Accuracy : 0.9884999990463257\n"
          ],
          "name": "stdout"
        }
      ]
    },
    {
      "cell_type": "code",
      "metadata": {
        "id": "OioLC43mSWjy",
        "colab_type": "code",
        "colab": {}
      },
      "source": [
        "predictions = digit_recognition_model.predict(x_test_new)"
      ],
      "execution_count": 0,
      "outputs": []
    },
    {
      "cell_type": "markdown",
      "metadata": {
        "id": "Fi9VN5_CSn5e",
        "colab_type": "text"
      },
      "source": [
        "Predicting a single image"
      ]
    },
    {
      "cell_type": "code",
      "metadata": {
        "id": "oXKJXMdgTzeK",
        "colab_type": "code",
        "outputId": "8838634e-9e88-489d-d5f3-f314e4c97e5f",
        "colab": {
          "base_uri": "https://localhost:8080/",
          "height": 729
        }
      },
      "source": [
        "def plot_image(i, predictions_array, true_label, img):\n",
        "  predictions_array, true_label, img = predictions_array, true_label[i], img[i]\n",
        "  plt.grid(False)\n",
        "  plt.xticks([])\n",
        "  plt.yticks([])\n",
        "\n",
        "  plt.imshow(img, cmap=plt.cm.binary)\n",
        "\n",
        "  predicted_label = np.argmax(predictions_array)\n",
        "  if predicted_label == true_label:\n",
        "    color = 'blue'\n",
        "  else:\n",
        "    color = 'red'\n",
        "\n",
        "  plt.xlabel(\"{} {:2.0f}% ({})\".format(class_names[predicted_label],\n",
        "                                100*np.max(predictions_array),\n",
        "                                class_names[true_label]),\n",
        "                                color=color)\n",
        "\n",
        "def plot_value_array(i, predictions_array, true_label):\n",
        "  predictions_array, true_label = predictions_array, true_label[i]\n",
        "  plt.grid(False)\n",
        "  plt.xticks(range(10))\n",
        "  plt.yticks([])\n",
        "  thisplot = plt.bar(range(10), predictions_array, color=\"#777777\")\n",
        "  plt.ylim([0, 1])\n",
        "  predicted_label = np.argmax(predictions_array)\n",
        "\n",
        "  thisplot[predicted_label].set_color('red')\n",
        "  thisplot[true_label].set_color('blue')\n",
        "num_rows = 5\n",
        "num_cols = 3\n",
        "num_images = num_rows*num_cols\n",
        "plt.figure(figsize=(2*2*num_cols, 2*num_rows))\n",
        "for i in range(num_images):\n",
        "  plt.subplot(num_rows, 2*num_cols, 2*i+1)\n",
        "  plot_image(i, predictions[i], y_test, x_test)\n",
        "  plt.subplot(num_rows, 2*num_cols, 2*i+2)\n",
        "  plot_value_array(i, predictions[i], y_test)\n",
        "plt.tight_layout()\n",
        "plt.show()"
      ],
      "execution_count": 28,
      "outputs": [
        {
          "output_type": "display_data",
          "data": {
            "image/png": "[encoded data removed]",
            "text/plain": [
              "<Figure size 864x720 with 30 Axes>"
            ]
          },
          "metadata": {
            "tags": [],
            "needs_background": "light"
          }
        }
      ]
    }
  ]
}